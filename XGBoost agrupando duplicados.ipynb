{
 "cells": [
  {
   "cell_type": "code",
   "execution_count": 1,
   "metadata": {},
   "outputs": [],
   "source": [
    "%load_ext autoreload\n",
    "%autoreload 2\n",
    "%matplotlib inline\n",
    "\n",
    "import pandas as pd\n",
    "import numpy as np\n",
    "import matplotlib.pyplot as plt \n",
    "import os\n",
    "from sklearn.model_selection import train_test_split\n",
    "from sklearn.metrics import mean_squared_error\n",
    "from sklearn.ensemble import RandomForestRegressor, RandomForestClassifier\n",
    "from datetime import datetime\n",
    "import time\n",
    "import math\n",
    "import scipy\n",
    "import xgboost as xgb\n",
    "import time\n",
    "import seaborn as sns\n",
    "from scipy import stats\n",
    "import graphviz\n",
    "\n",
    "os.chdir('C:\\\\Users\\\\Julio\\\\Documents\\\\Data_science\\\\Continental\\\\Data')"
   ]
  },
  {
   "cell_type": "code",
   "execution_count": 2,
   "metadata": {
    "scrolled": true
   },
   "outputs": [
    {
     "name": "stderr",
     "output_type": "stream",
     "text": [
      "C:\\Users\\Julio\\Anaconda3\\lib\\site-packages\\pandas\\io\\feather_format.py:112: FutureWarning: `nthreads` argument is deprecated, pass `use_threads` instead\n",
      "  return feather.read_dataframe(path, nthreads=nthreads)\n"
     ]
    }
   ],
   "source": [
    "df_train=pd.read_feather(\"df_train\")\n",
    "df_test=pd.read_feather(\"df_test\")"
   ]
  },
  {
   "cell_type": "code",
   "execution_count": 66,
   "metadata": {
    "scrolled": true
   },
   "outputs": [
    {
     "name": "stderr",
     "output_type": "stream",
     "text": [
      "C:\\Users\\Julio\\Anaconda3\\lib\\site-packages\\pandas\\core\\frame.py:3694: SettingWithCopyWarning: \n",
      "A value is trying to be set on a copy of a slice from a DataFrame\n",
      "\n",
      "See the caveats in the documentation: http://pandas.pydata.org/pandas-docs/stable/indexing.html#indexing-view-versus-copy\n",
      "  errors=errors)\n"
     ]
    }
   ],
   "source": [
    "data_train=df_train.groupby(by=[\"codCliente\", \"codEstab\"], as_index=False).nth(0)\n",
    "data_train.drop(columns=\"ratingMonto\", inplace=True)\n",
    "data_train.reset_index(drop=True, inplace=True)\n",
    "var_target=df_train.groupby(by=[\"codCliente\", \"codEstab\"], as_index=False).agg({\"ratingMonto\":\"mean\"})\n",
    "data_train=data_train.merge(var_target, on=[\"codCliente\", \"codEstab\"])"
   ]
  },
  {
   "cell_type": "code",
   "execution_count": 69,
   "metadata": {},
   "outputs": [],
   "source": [
    "data_train_1=data_train[(data_train.cant_visitas_estab>5)&(data_train.ctdVisitas_cliente>5)&(data_train.ratingMonto_total<1)&\n",
    "                        (data_train.ratingMonto<0.5)]"
   ]
  },
  {
   "cell_type": "code",
   "execution_count": 71,
   "metadata": {},
   "outputs": [
    {
     "data": {
      "text/plain": [
       "678992"
      ]
     },
     "execution_count": 71,
     "metadata": {},
     "output_type": "execute_result"
    }
   ],
   "source": [
    "len(data_train_1)"
   ]
  },
  {
   "cell_type": "code",
   "execution_count": 72,
   "metadata": {},
   "outputs": [],
   "source": [
    "variables_independientes=['codCliente', 'codGiro', 'codEstab', 'flagLimaProvEstab',\n",
    "       'ubigeoEstab','ctdVisitas_cliente_estab', \n",
    "       'ratingMonto_cliente_min', 'ratingMonto_cliente_max',\n",
    "       'ratingMonto_cliente_mean', 'ratingMonto_cliente_median',\n",
    "       'cantEstab_cliente', 'ctdVisitas_cliente', 'ctdTrx_cliente',\n",
    "       'cant_ubigeoEstab_cliente', 'moda_ubigeoEstab_cliente',\n",
    "       'cant_codGiro_cliente', 'moda_codGiro_cliente','lag_ultima_visita_cliente',\n",
    "        'flagGenero', 'flagLimaProvCliente', 'ubigeoCliente', 'flagBxi',\n",
    "        'total_ratingMonto_estab', 'mean_ratingMonto_estab',\n",
    "       'median_ratingMonto_estab', 'ctdTrx_estab', 'cant_visitas_estab',\n",
    "       'cant_codCliente_estab', 'moda_ubigeoCliente_estab',\n",
    "       'cant_ubigeoCliente_estab', 'lag_ultima_visita_estab', 'total_ratingMonto_giro', 'mean_ratingMonto_giro',\n",
    "       'median_ratingMonto_giro', 'ctdTrx_giro', 'cant_visitas_giro',\n",
    "       'cant_codCliente_giro', 'moda_ubigeoCliente_giro',\n",
    "       'cant_ubigeoCliente_giro', 'lag_ultima_visita_giro',  'rangoIngreso_Rango1', 'rangoIngreso_Rango2',\n",
    "       'rangoIngreso_Rango3', 'rangoIngreso_Rango4', 'rangoIngreso_Rango5',\n",
    "       'rangoIngreso_Rango6', 'rangoEdad_Rango1', 'rangoEdad_Rango2',\n",
    "       'rangoEdad_Rango3', 'rangoEdad_Rango4', 'rangoEdad_Rango5',\n",
    "       'rangoEdad_Rango6', 'saldoTcEntidad1_Rango1', 'saldoTcEntidad1_Rango2',\n",
    "       'saldoTcEntidad1_Rango3', 'saldoTcEntidad1_Rango4',\n",
    "       'saldoTcEntidad1_Rango5', 'saldoTcEntidad1_Rango6']\n",
    "\n",
    "data_train_indep=data_train_1[variables_independientes]\n",
    "y_train=data_train_1[\"ratingMonto\"]\n",
    "data_test_indep=df_test[variables_independientes]\n",
    "y_test=df_test[\"ratingMonto\"]"
   ]
  },
  {
   "cell_type": "markdown",
   "metadata": {},
   "source": [
    "### Entrenamos el modelo\n",
    "1er \n",
    "Train  0.017801448780840702\n",
    "Test   0.028650447899314764"
   ]
  },
  {
   "cell_type": "code",
   "execution_count": 73,
   "metadata": {},
   "outputs": [
    {
     "name": "stdout",
     "output_type": "stream",
     "text": [
      "Entrenamiento completado. Tomo 10.0491836587588 minutos\n"
     ]
    }
   ],
   "source": [
    "tune_gamma=0.05\n",
    "xgb_model = xgb.XGBRegressor(n_jobs=-1,n_estimators=100, subsample=0.5,max_depth=20, \n",
    "                             colsample_bytree=0.5, silent=True, eta=0.1, gamma=tune_gamma)\n",
    "start=time.time()\n",
    "xgb_model.fit(data_train_indep, y_train)\n",
    "duracion=(time.time()-start)/60\n",
    "print(\"Entrenamiento completado. Tomo\", duracion, \"minutos\")"
   ]
  },
  {
   "cell_type": "code",
   "execution_count": 74,
   "metadata": {},
   "outputs": [],
   "source": [
    "def error(data, y, modelo):\n",
    "    y_p = modelo.predict(data)\n",
    "    y_p_1=np.where(y_p<0, 0, y_p)\n",
    "    print('RSME sin truncar',math.sqrt(mean_squared_error(y, y_p)))\n",
    "    print('RSME truncando',math.sqrt(mean_squared_error(y, y_p_1)))"
   ]
  },
  {
   "cell_type": "code",
   "execution_count": 75,
   "metadata": {},
   "outputs": [
    {
     "name": "stdout",
     "output_type": "stream",
     "text": [
      "RSME sin truncar 0.01733050812781025\n",
      "RSME truncando 0.017329967831092908\n"
     ]
    }
   ],
   "source": [
    "error(data_train_indep, y_train, xgb_model)"
   ]
  },
  {
   "cell_type": "code",
   "execution_count": 76,
   "metadata": {},
   "outputs": [
    {
     "name": "stdout",
     "output_type": "stream",
     "text": [
      "RSME sin truncar 0.02810873802428677\n",
      "RSME truncando 0.028108188495035942\n"
     ]
    }
   ],
   "source": [
    "error(data_test_indep, y_test, xgb_model)"
   ]
  },
  {
   "cell_type": "code",
   "execution_count": 77,
   "metadata": {
    "scrolled": true
   },
   "outputs": [
    {
     "data": {
      "text/plain": [
       "<matplotlib.axes._subplots.AxesSubplot at 0x13801c099e8>"
      ]
     },
     "execution_count": 77,
     "metadata": {},
     "output_type": "execute_result"
    },
    {
     "data": {
      "image/png": "[encoded data removed]",
      "text/plain": [
       "<Figure size 432x288 with 1 Axes>"
      ]
     },
     "metadata": {},
     "output_type": "display_data"
    }
   ],
   "source": [
    "xgb.plot_importance(xgb_model, max_num_features=20)"
   ]
  },
  {
   "cell_type": "markdown",
   "metadata": {},
   "source": [
    "### Data para someter\n",
    "#### 1er intento "
   ]
  },
  {
   "cell_type": "code",
   "execution_count": 59,
   "metadata": {},
   "outputs": [],
   "source": [
    "##### 3er intento 0.03956 \n",
    "##### cortando outliers en el percentil 0.99\n",
    "\n",
    "data_test_kaggle=data_test_kaggle[variables_independientes]"
   ]
  },
  {
   "cell_type": "code",
   "execution_count": 60,
   "metadata": {},
   "outputs": [],
   "source": [
    "y_p_test_key_rec = xgb_model.predict(data_test_kaggle)"
   ]
  },
  {
   "cell_type": "code",
   "execution_count": 61,
   "metadata": {},
   "outputs": [],
   "source": [
    "y_p_test_key_rec_1=np.where(y_p_test_key_rec<0, 0, y_p_test_key_rec)"
   ]
  },
  {
   "cell_type": "code",
   "execution_count": 62,
   "metadata": {},
   "outputs": [],
   "source": [
    "data_test_kaggle[\"ratingMonto\"]=y_p_test_key_rec_1\n",
    "data_test_kaggle[\"codClienteCodEstab\"]=data_test_kaggle.codCliente.map(str)+data_test_kaggle.codEstab.map(str)"
   ]
  },
  {
   "cell_type": "code",
   "execution_count": 63,
   "metadata": {},
   "outputs": [],
   "source": [
    "prediccion_final=data_test_kaggle[[\"codClienteCodEstab\", \"ratingMonto\"]]"
   ]
  },
  {
   "cell_type": "code",
   "execution_count": 64,
   "metadata": {},
   "outputs": [
    {
     "data": {
      "text/html": [
       "<div>\n",
       "<style scoped>\n",
       "    .dataframe tbody tr th:only-of-type {\n",
       "        vertical-align: middle;\n",
       "    }\n",
       "\n",
       "    .dataframe tbody tr th {\n",
       "        vertical-align: top;\n",
       "    }\n",
       "\n",
       "    .dataframe thead th {\n",
       "        text-align: right;\n",
       "    }\n",
       "</style>\n",
       "<table border=\"1\" class=\"dataframe\">\n",
       "  <thead>\n",
       "    <tr style=\"text-align: right;\">\n",
       "      <th></th>\n",
       "      <th>0</th>\n",
       "      <th>1</th>\n",
       "      <th>2</th>\n",
       "      <th>3</th>\n",
       "      <th>4</th>\n",
       "    </tr>\n",
       "  </thead>\n",
       "  <tbody>\n",
       "    <tr>\n",
       "      <th>codClienteCodEstab</th>\n",
       "      <td>118268644</td>\n",
       "      <td>118231068</td>\n",
       "      <td>11824288</td>\n",
       "      <td>118215803</td>\n",
       "      <td>118241883</td>\n",
       "    </tr>\n",
       "    <tr>\n",
       "      <th>ratingMonto</th>\n",
       "      <td>0.0243658</td>\n",
       "      <td>0.0155172</td>\n",
       "      <td>0.0148215</td>\n",
       "      <td>0.0122721</td>\n",
       "      <td>0.00944814</td>\n",
       "    </tr>\n",
       "  </tbody>\n",
       "</table>\n",
       "</div>"
      ],
      "text/plain": [
       "                            0          1          2          3           4\n",
       "codClienteCodEstab  118268644  118231068   11824288  118215803   118241883\n",
       "ratingMonto         0.0243658  0.0155172  0.0148215  0.0122721  0.00944814"
      ]
     },
     "execution_count": 64,
     "metadata": {},
     "output_type": "execute_result"
    }
   ],
   "source": [
    "prediccion_final.head().T"
   ]
  },
  {
   "cell_type": "code",
   "execution_count": 65,
   "metadata": {},
   "outputs": [
    {
     "data": {
      "text/plain": [
       "467203"
      ]
     },
     "execution_count": 65,
     "metadata": {},
     "output_type": "execute_result"
    }
   ],
   "source": [
    "len(prediccion_final)"
   ]
  },
  {
   "cell_type": "code",
   "execution_count": 66,
   "metadata": {},
   "outputs": [],
   "source": [
    "prediccion_final.to_csv(\"submission\", sep=',', index=False)"
   ]
  },
  {
   "cell_type": "code",
   "execution_count": 404,
   "metadata": {},
   "outputs": [
    {
     "name": "stderr",
     "output_type": "stream",
     "text": [
      "\"rar\" no se reconoce como un comando interno o externo,\n",
      "programa o archivo por lotes ejecutable.\n"
     ]
    }
   ],
   "source": [
    "!rar a submission"
   ]
  }
 ],
 "metadata": {
  "kernelspec": {
   "display_name": "Python 3",
   "language": "python",
   "name": "python3"
  },
  "language_info": {
   "codemirror_mode": {
    "name": "ipython",
    "version": 3
   },
   "file_extension": ".py",
   "mimetype": "text/x-python",
   "name": "python",
   "nbconvert_exporter": "python",
   "pygments_lexer": "ipython3",
   "version": "3.6.5"
  }
 },
 "nbformat": 4,
 "nbformat_minor": 2
}
